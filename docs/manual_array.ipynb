{
 "cells": [
  {
   "cell_type": "markdown",
   "id": "51e75283-8f8c-4d4d-ae1b-6cef3d9a153a",
   "metadata": {},
   "source": [
    "# mfem::Array\n",
    " \n",
    " Array<T> is a template in MFEM to handle an array of data type <T>. \n",
    " In order to use it from Python, a template needs to be instatiated for each <T> \n",
    " PyMFEM definies the follwing instations. \n",
    " \n",
    "    * Array<int>  -> intArray\n",
    "    * Array<double> -> doubleArray\n",
    "    * Array<IntegrationPoint> -> IntegrationPointArray\n",
    "    * Array<GeometryType> ->  GeometryTypeArray\n",
    "    * Array<Refinement> -> RefinementArray\n",
    "    * Array<FiniteElementSpace> -> FiniteElementSpaceArray\n",
    "    \n",
    "Smong them, intArray and doubleArray are the template insatiation we use the most by far. Note we use a nameing convention of <T>Array. If you need Array<T> for a different class, please let us know.   \n"
   ]
  },
  {
   "cell_type": "markdown",
   "id": "5eb89e99-9401-455b-b775-cad4a7250e97",
   "metadata": {},
   "source": [
    "1. Constructor "
   ]
  },
  {
   "cell_type": "code",
   "execution_count": null,
   "id": "bb23f3cb",
   "metadata": {},
   "outputs": [],
   "source": [
    "import mfem.ser as mfem\n",
    "\n",
    "# Construction with one integer argument prepare a space for a given size.\n",
    "x = mfem.intArray(5)\n",
    "y = mfem.doubleArray(3)\n",
    "\n",
    "print(x.Size(), y.Size())\n",
    "\n",
    "# ToList convert intArray, doubleArray to List. Data is copied. \n",
    "# Note that array is not initialized. \n",
    "print(x.ToList(), y.ToList())\n",
    "\n",
    "# Construction using a give list/tuple\n",
    "x = mfem.intArray((1,3,3))\n",
    "y = mfem.doubleArray([4.0, 5.0])\n",
    "print(x.ToList(), y.ToList())"
   ]
  },
  {
   "cell_type": "markdown",
   "id": "5baa51d6",
   "metadata": {},
   "source": [
    "2. Initialize array (Assign)"
   ]
  },
  {
   "cell_type": "code",
   "execution_count": null,
   "id": "bec4482c-822c-4d60-bd36-44f9f2ddb029",
   "metadata": {},
   "outputs": [],
   "source": [
    "# Assign is replacement of = operator in C++. Wrapper take care of conversion to float (5 -> 5.0)\n",
    "x.Assign(3)\n",
    "y.Assign(5)\n",
    "print(x.ToList(), y.ToList())"
   ]
  },
  {
   "cell_type": "markdown",
   "id": "6f91306a",
   "metadata": {},
   "source": [
    "3. Elementwise access uses []"
   ]
  },
  {
   "cell_type": "code",
   "execution_count": null,
   "id": "386b92a2",
   "metadata": {},
   "outputs": [],
   "source": [
    "print(x[0])\n",
    "x[1] = 10\n",
    "print(x.ToList())\n",
    "print(y[1])\n",
    "y[1] = 3.0\n",
    "print(y.ToList())"
   ]
  },
  {
   "cell_type": "markdown",
   "id": "7064e37d",
   "metadata": {},
   "source": [
    "4. Iterator"
   ]
  },
  {
   "cell_type": "code",
   "execution_count": null,
   "id": "8654a3ab-f427-457c-8b02-93d007adff33",
   "metadata": {},
   "outputs": [],
   "source": [
    "for k, value in enumerate(x):\n",
    "    print(str(k)+'-th element is', x[k])\n",
    "    \n"
   ]
  },
  {
   "cell_type": "markdown",
   "id": "05800d33",
   "metadata": {},
   "source": [
    "5. Pointer access. \n",
    "We can use intArray, doubleArray to handle int * /double *. "
   ]
  },
  {
   "cell_type": "code",
   "execution_count": null,
   "id": "0147b39b-b581-4880-b68e-505fd0eb8c88",
   "metadata": {},
   "outputs": [],
   "source": [
    "# Get a pointer\n",
    "print(x.GetData())\n",
    "print(y.GetData())"
   ]
  },
  {
   "cell_type": "code",
   "execution_count": null,
   "id": "e5b54c66-7424-47f8-addd-7677a53c3245",
   "metadata": {},
   "outputs": [],
   "source": [
    "# creating intArray/doubleArray from a given pointer\n",
    "x2 = mfem.intArray((x.GetData(), x.Size()))\n",
    "y2 = mfem.doubleArray((y.GetData(), y.Size()))\n",
    "# Now, x and 2x, y and y2 are pointing the same memory segments. \n",
    "# So changing one will change the other\n",
    "x2.Assign(3)\n",
    "print(x.ToList())"
   ]
  },
  {
   "cell_type": "code",
   "execution_count": null,
   "id": "74e7e5ba",
   "metadata": {},
   "outputs": [],
   "source": [
    "#  MFEM API requires int * /double *, which can be accessed using intArray/doubleArray\n",
    "mesh = mfem.Mesh('../data/star.mesh')\n",
    "p = mesh.CartesianPartitioning([2,1,1])\n",
    "parts = mfem.intArray((p, mesh.GetNE()))\n",
    "print(parts.ToList())\n",
    "# admittedly, ToList copy the data. In-place access using numpy array may be desirable?"
   ]
  },
  {
   "cell_type": "code",
   "execution_count": null,
   "id": "acd9ba1a",
   "metadata": {},
   "outputs": [],
   "source": []
  }
 ],
 "metadata": {
  "kernelspec": {
   "display_name": "Python 3 (ipykernel)",
   "language": "python",
   "name": "python3"
  },
  "language_info": {
   "codemirror_mode": {
    "name": "ipython",
    "version": 3
   },
   "file_extension": ".py",
   "mimetype": "text/x-python",
   "name": "python",
   "nbconvert_exporter": "python",
   "pygments_lexer": "ipython3",
   "version": "3.8.10"
  }
 },
 "nbformat": 4,
 "nbformat_minor": 5
}
