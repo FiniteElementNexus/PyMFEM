{
 "cells": [
  {
   "cell_type": "markdown",
   "id": "51e75283-8f8c-4d4d-ae1b-6cef3d9a153a",
   "metadata": {},
   "source": [
    "# mfem::Array\n",
    " \n",
    " Array<T> is a template in MFEM to handle an array of data type <T>. \n",
    " In order to use it from Python, a template needs to be instatiated for each <T> \n",
    " PyMFEM definies the follwing instations. \n",
    " \n",
    "    * Array<int>  -> intArray\n",
    "    * Array<double> -> doubleArray\n",
    "    * Array<IntegrationPoint> -> IntegrationPointArray\n",
    "    * Array<GeometryType> ->  GeometryTypeArray\n",
    "    * Array<Refinement> -> RefinementArray\n",
    "    * Array<FiniteElementSpace> -> FiniteElementSpaceArray\n",
    "    \n",
    "Smong them, intArray and doubleArray are the template insatiation we use the most by far. Note we use a nameing convention of <T>Array. If you need Array<T> for a different class, please let us know.   \n"
   ]
  },
  {
   "cell_type": "markdown",
   "id": "5eb89e99-9401-455b-b775-cad4a7250e97",
   "metadata": {},
   "source": [
    "1. Constructor "
   ]
  },
  {
   "cell_type": "code",
   "execution_count": 1,
   "id": "242f94c6",
   "metadata": {},
   "outputs": [
    {
     "name": "stdout",
     "output_type": "stream",
     "text": [
      "5 3\n",
      "[36399168, 0, 0, 0, 32] [0.0, 0.0, 0.0]\n",
      "[1, 3, 3] [4.0, 5.0]\n"
     ]
    }
   ],
   "source": [
    "import mfem.ser as mfem\n",
    "# Construction with one integer argument prepare a space for a given size.\n",
    "x = mfem.intArray(5)\n",
    "y = mfem.doubleArray(3)\n",
    "\n",
    "print(x.Size(), y.Size())\n",
    "\n",
    "# ToList convert intArray, doubleArray to List. Data is copied. \n",
    "# Note that array is not initialized. \n",
    "print(x.ToList(), y.ToList())\n",
    "\n",
    "# Construction using a give list/tuple\n",
    "x = mfem.intArray((1,3,3))\n",
    "y = mfem.doubleArray([4.0, 5.0])\n",
    "print(x.ToList(), y.ToList())"
   ]
  },
  {
   "cell_type": "markdown",
   "id": "e498bdfc",
   "metadata": {},
   "source": [
    "2. Initialize array (Assign)"
   ]
  },
  {
   "cell_type": "code",
   "execution_count": 2,
   "id": "bec4482c-822c-4d60-bd36-44f9f2ddb029",
   "metadata": {},
   "outputs": [
    {
     "name": "stdout",
     "output_type": "stream",
     "text": [
      "[3, 3, 3] [5.0, 5.0]\n"
     ]
    }
   ],
   "source": [
    "# Assign is replacement of = operator in C++. Wrapper take care of conversion to float (5 -> 5.0)\n",
    "x.Assign(3)\n",
    "y.Assign(5)\n",
    "print(x.ToList(), y.ToList())"
   ]
  },
  {
   "cell_type": "markdown",
   "id": "5f09c56b",
   "metadata": {},
   "source": [
    "3. Elementwise access uses []"
   ]
  },
  {
   "cell_type": "code",
   "execution_count": 3,
   "id": "42239222",
   "metadata": {},
   "outputs": [
    {
     "name": "stdout",
     "output_type": "stream",
     "text": [
      "3\n",
      "[3, 10, 3]\n",
      "5.0\n",
      "[5.0, 3.0]\n"
     ]
    }
   ],
   "source": [
    "print(x[0])\n",
    "x[1] = 10\n",
    "print(x.ToList())\n",
    "print(y[1])\n",
    "y[1] = 3.0\n",
    "print(y.ToList())"
   ]
  },
  {
   "cell_type": "markdown",
   "id": "47ad9395",
   "metadata": {},
   "source": [
    "4. Iterator"
   ]
  },
  {
   "cell_type": "code",
   "execution_count": 4,
   "id": "8654a3ab-f427-457c-8b02-93d007adff33",
   "metadata": {},
   "outputs": [
    {
     "name": "stdout",
     "output_type": "stream",
     "text": [
      "0-th element is 3\n",
      "1-th element is 10\n",
      "2-th element is 3\n"
     ]
    }
   ],
   "source": [
    "for k, value in enumerate(x):\n",
    "    print(str(k)+'-th element is', x[k])\n",
    "    \n"
   ]
  },
  {
   "cell_type": "markdown",
   "id": "f28a5bc3",
   "metadata": {},
   "source": [
    "5. Pointer access. \n",
    "We can use intArray, doubleArray to handle int * /double *. "
   ]
  },
  {
   "cell_type": "code",
   "execution_count": 5,
   "id": "0147b39b-b581-4880-b68e-505fd0eb8c88",
   "metadata": {},
   "outputs": [
    {
     "name": "stdout",
     "output_type": "stream",
     "text": [
      "<Swig Object of type 'int *' at 0x7fd706ab4360>\n",
      "<Swig Object of type 'double *' at 0x7fd706ab4ba0>\n"
     ]
    }
   ],
   "source": [
    "# Get a pointer\n",
    "print(x.GetData())\n",
    "print(y.GetData())"
   ]
  },
  {
   "cell_type": "code",
   "execution_count": 10,
   "id": "e5b54c66-7424-47f8-addd-7677a53c3245",
   "metadata": {},
   "outputs": [
    {
     "name": "stdout",
     "output_type": "stream",
     "text": [
      "[3, 3, 3]\n"
     ]
    }
   ],
   "source": [
    "# creating intArray/doubleArray from a given pointer\n",
    "x2 = mfem.intArray((x.GetData(), x.Size()))\n",
    "y2 = mfem.doubleArray((y.GetData(), y.Size()))\n",
    "# Now, x and 2x, y and y2 are pointing the same memory segments. \n",
    "# So changing one will change the other\n",
    "x2.Assign(3)\n",
    "print(x.ToList())"
   ]
  },
  {
   "cell_type": "code",
   "execution_count": 17,
   "id": "70ea5362",
   "metadata": {},
   "outputs": [
    {
     "name": "stdout",
     "output_type": "stream",
     "text": [
      "[1, 1, 0, 1, 1, 1, 1, 1, 1, 0, 0, 0, 0, 0, 0, 0, 1, 1, 1, 1]\n"
     ]
    }
   ],
   "source": [
    "#  MFEM API requires int * /double *, which can be accessed using intArray/doubleArray\n",
    "mesh = mfem.Mesh('../data/star.mesh')\n",
    "p = mesh.CartesianPartitioning([2,1,1])\n",
    "parts = mfem.intArray((p, mesh.GetNE()))\n",
    "print(parts.ToList())\n",
    "# admittedly, ToList copy the data. In-place access using numpy array may be desirable?"
   ]
  },
  {
   "cell_type": "code",
   "execution_count": null,
   "id": "1a8412e3",
   "metadata": {},
   "outputs": [],
   "source": []
  }
 ],
 "metadata": {
  "kernelspec": {
   "display_name": "Python 3 (ipykernel)",
   "language": "python",
   "name": "python3"
  },
  "language_info": {
   "codemirror_mode": {
    "name": "ipython",
    "version": 3
   },
   "file_extension": ".py",
   "mimetype": "text/x-python",
   "name": "python",
   "nbconvert_exporter": "python",
   "pygments_lexer": "ipython3",
   "version": "3.8.10"
  }
 },
 "nbformat": 4,
 "nbformat_minor": 5
}
